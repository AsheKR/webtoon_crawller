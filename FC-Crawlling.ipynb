{
 "cells": [
  {
   "cell_type": "markdown",
   "metadata": {},
   "source": [
    "#  설계\n",
    "\n",
    "## 클래스\n",
    "\n",
    "### Crawler\n",
    "\n",
    "웹툰 크롤러에 대한 모든 기능을 가지고 있는 클래스\n",
    "\n",
    "#### 클래스 속성\n",
    "\n",
    "- 웹툰 목록 URL\n",
    "\n",
    "#### 프로퍼티\n",
    "\n",
    "- html (웹툰 목록 페이지의 HTML을 가져옴)\n",
    "- webtoon_data_list (WebtoonData목록을 가져옴)\n",
    "\n",
    "#### 메서드\n",
    "\n",
    "\n",
    "\n",
    "\n",
    "### WebtoonData\n",
    "웹툰 하나에 해당\n",
    "\n",
    "#### 속성\n",
    "\n",
    "-- 기존보기 --\n",
    "\n",
    "- 웹툰 고유 ID (webtoon_id)\n",
    "- 제목 (title)\n",
    "- 커버이미지 (url_img_thumbnail)\n",
    "- (protected)작가 (\\_author)\n",
    "- (protected)작품설명 (\\_description)\n",
    "\n",
    "#### 프로퍼티\n",
    "\n",
    "-- 상세보기 --\n",
    "- 작가 (author) 상세보기에 들어가서 author 속성을 채우기\n",
    "- 작품설명 (description) 상세보기에 들어가서 description 속성을 채우기\n",
    "\n",
    "#### 메서드\n",
    "\n",
    "### EpisodeData\n",
    "웹툰의 한 회에 해당\n",
    "\n",
    "#### 속성\n",
    "\n",
    "- 에피소드 고유 아이디 (episode_id)\n",
    "- 제목 (title)\n",
    "- 커버이미지 (url_img_thumbnail)\n",
    "- 별점 (rating)\n",
    "- 등록일 (created_date)"
   ]
  },
  {
   "cell_type": "code",
   "execution_count": 2,
   "metadata": {},
   "outputs": [],
   "source": [
    "import requests\n",
    "from bs4 import BeautifulSoup"
   ]
  },
  {
   "cell_type": "code",
   "execution_count": 3,
   "metadata": {},
   "outputs": [
    {
     "data": {
      "text/plain": [
       "243637"
      ]
     },
     "execution_count": 3,
     "metadata": {},
     "output_type": "execute_result"
    }
   ],
   "source": [
    "response = requests.get('https://comic.naver.com/webtoon/weekday.nhn')\n",
    "open('weekday.html', 'wt').write(response.text)"
   ]
  },
  {
   "cell_type": "code",
   "execution_count": 5,
   "metadata": {},
   "outputs": [],
   "source": [
    "html = open('weekday.html', 'rt').read()\n",
    "soup = BeautifulSoup(html, 'lxml')"
   ]
  },
  {
   "cell_type": "code",
   "execution_count": 38,
   "metadata": {},
   "outputs": [],
   "source": [
    "# div class=\"list_area daily_all\" 요소가 가진\n",
    "# 모든 .col 목록들을 col_list에 할당\n",
    "\n",
    "# .list_area.daily_all은 웹툰 전체 부분에 해당\n",
    "# .col요소는 각 요일 부분에 해당\n",
    "\n",
    "col_list = soup.select_one('div.list_area.daily_all').select('.col')"
   ]
  },
  {
   "cell_type": "code",
   "execution_count": 42,
   "metadata": {},
   "outputs": [],
   "source": [
    "# .col 내부에 있는 li 요소 한개가 웹툰 한개에 해당\n",
    "# .col_list(요일 목록)을 순회하며 각 col(요일)이 가진 모든 웹툰(li)요소들을\n",
    "# li_list에 추가하기\n",
    "\n",
    "li_list = [\n",
    "    li\n",
    "        for col in col_list\n",
    "            for li in col.select('.col_inner ul > li')\n",
    "]"
   ]
  },
  {
   "cell_type": "code",
   "execution_count": 53,
   "metadata": {},
   "outputs": [
    {
     "data": {
      "text/plain": [
       "220"
      ]
     },
     "execution_count": 53,
     "metadata": {},
     "output_type": "execute_result"
    }
   ],
   "source": [
    "len(li_list)"
   ]
  },
  {
   "cell_type": "code",
   "execution_count": 58,
   "metadata": {},
   "outputs": [],
   "source": [
    "class WebtoonData:\n",
    "    def __init__(self, weboon_id, title, url_thumbnail):\n",
    "        self.webtoon_id = webtoon_id\n",
    "        self.title = title\n",
    "        self.url_thumbnail = url_thumbnail\n",
    "        \n",
    "    def __repr__(self):\n",
    "        return self.title"
   ]
  },
  {
   "cell_type": "code",
   "execution_count": 72,
   "metadata": {},
   "outputs": [],
   "source": [
    "import re\n",
    "\n",
    "webtoon_data_dict = {}\n",
    "#webtoon_data_list = []\n",
    "\n",
    "for li in li_list:\n",
    "    title = li.select_one('a.title').get_text(strip=True)\n",
    "    url_thumbnail = li.select_one('.thumb > a > img')['src']\n",
    "    webtoon_id = re.match(r'.*titleId=(\\d+).*', li.select_one('.thumb > a')['href']).group(1)\n",
    "    \n",
    "    if not title in webtoon_data_dict:\n",
    "        new_webtoon_data = WebtoonData(webtoon_id, title, url_thumbnail)\n",
    "        #webtoon_data_list.append(new_webtoon_data)\n",
    "        # 중복 할당을 하는 문제가 발생한다. 해결책으로 KEY가 존재하는지 in 연산자로 찾게한다.\n",
    "        webtoon_data_dict[title] = new_webtoon_data"
   ]
  },
  {
   "cell_type": "code",
   "execution_count": 73,
   "metadata": {},
   "outputs": [
    {
     "name": "stdout",
     "output_type": "stream",
     "text": [
      "Dict:  192\n",
      "List:  220\n"
     ]
    }
   ],
   "source": [
    "print('Dict: ', len(webtoon_data_dict))\n",
    "print('List: ', len(webtoon_data_list))"
   ]
  },
  {
   "cell_type": "code",
   "execution_count": 85,
   "metadata": {},
   "outputs": [],
   "source": [
    "url = 'https://comic.naver.com/webtoon/list.nhn?titleId=183559'\n",
    "response = requests.get(url)\n",
    "html = response.text"
   ]
  },
  {
   "cell_type": "code",
   "execution_count": 86,
   "metadata": {},
   "outputs": [],
   "source": [
    "soup = BeautifulSoup(html, 'lxml')"
   ]
  },
  {
   "cell_type": "code",
   "execution_count": 87,
   "metadata": {},
   "outputs": [],
   "source": [
    "# 에피소드 고유 아이디 (episode_id)\n",
    "#제목 (title)\n",
    "#커버이미지 (url_img_thumbnail)\n",
    "#별점 (rating)\n",
    "#등록일 (created_date)"
   ]
  },
  {
   "cell_type": "code",
   "execution_count": 93,
   "metadata": {},
   "outputs": [
    {
     "name": "stdout",
     "output_type": "stream",
     "text": [
      "[<tr>\n",
      "<td>\n",
      "<a href=\"/webtoon/detail.nhn?titleId=183559&amp;no=403&amp;weekday=mon\" onclick=\"clickcr(this,'lst.img','183559','403',event)\">\n",
      "<img alt=\"2부 321화\" height=\"41\" onerror=\"this.src='https://static-comic.pstatic.net/staticImages/COMICWEB/NAVER/img/common/non71_41.gif'\" src=\"https://shared-comic.pstatic.net/thumb/webtoon/183559/403/thumbnail_202x120_ee970c1f-eea6-4517-aef6-797057fa3584.jpg\" title=\"2부 321화\" width=\"71\"/>\n",
      "<span class=\"mask\"></span>\n",
      "</a>\n",
      "</td>\n",
      "<td class=\"title\">\n",
      "<a href=\"/webtoon/detail.nhn?titleId=183559&amp;no=403&amp;weekday=mon\" onclick=\"clickcr(this,'lst.title','183559','403',event)\">2부 321화</a>\n",
      "</td>\n",
      "<td>\n",
      "<div class=\"rating_type\">\n",
      "<span class=\"star\"><em style=\"width:99.31%\">평점</em></span>\n",
      "<strong>9.93</strong>\n",
      "</div>\n",
      "</td>\n",
      "<td class=\"num\">2018.09.30</td>\n",
      "</tr>, <tr>\n",
      "<td>\n",
      "<a href=\"/webtoon/detail.nhn?titleId=183559&amp;no=402&amp;weekday=mon\" onclick=\"clickcr(this,'lst.img','183559','402',event)\">\n",
      "<img alt=\"2부 320화\" height=\"41\" onerror=\"this.src='https://static-comic.pstatic.net/staticImages/COMICWEB/NAVER/img/common/non71_41.gif'\" src=\"https://shared-comic.pstatic.net/thumb/webtoon/183559/402/thumbnail_202x120_b1426349-ae94-4eaf-bd63-9b2af4bdef2c.jpg\" title=\"2부 320화\" width=\"71\"/>\n",
      "<span class=\"mask\"></span>\n",
      "</a>\n",
      "</td>\n",
      "<td class=\"title\">\n",
      "<a href=\"/webtoon/detail.nhn?titleId=183559&amp;no=402&amp;weekday=mon\" onclick=\"clickcr(this,'lst.title','183559','402',event)\">2부 320화</a>\n",
      "</td>\n",
      "<td>\n",
      "<div class=\"rating_type\">\n",
      "<span class=\"star\"><em style=\"width:99.71%\">평점</em></span>\n",
      "<strong>9.97</strong>\n",
      "</div>\n",
      "</td>\n",
      "<td class=\"num\">2018.09.23</td>\n",
      "</tr>, <tr>\n",
      "<td>\n",
      "<a href=\"/webtoon/detail.nhn?titleId=183559&amp;no=401&amp;weekday=mon\" onclick=\"clickcr(this,'lst.img','183559','401',event)\">\n",
      "<img alt=\"2부 319화\" height=\"41\" onerror=\"this.src='https://static-comic.pstatic.net/staticImages/COMICWEB/NAVER/img/common/non71_41.gif'\" src=\"https://shared-comic.pstatic.net/thumb/webtoon/183559/401/thumbnail_202x120_f851ac1e-02ab-430c-84df-abf304aafc83.jpg\" title=\"2부 319화\" width=\"71\"/>\n",
      "<span class=\"mask\"></span>\n",
      "</a>\n",
      "</td>\n",
      "<td class=\"title\">\n",
      "<a href=\"/webtoon/detail.nhn?titleId=183559&amp;no=401&amp;weekday=mon\" onclick=\"clickcr(this,'lst.title','183559','401',event)\">2부 319화</a>\n",
      "</td>\n",
      "<td>\n",
      "<div class=\"rating_type\">\n",
      "<span class=\"star\"><em style=\"width:99.78%\">평점</em></span>\n",
      "<strong>9.98</strong>\n",
      "</div>\n",
      "</td>\n",
      "<td class=\"num\">2018.09.16</td>\n",
      "</tr>, <tr>\n",
      "<td>\n",
      "<a href=\"/webtoon/detail.nhn?titleId=183559&amp;no=400&amp;weekday=mon\" onclick=\"clickcr(this,'lst.img','183559','400',event)\">\n",
      "<img alt=\"2부 318화\" height=\"41\" onerror=\"this.src='https://static-comic.pstatic.net/staticImages/COMICWEB/NAVER/img/common/non71_41.gif'\" src=\"https://shared-comic.pstatic.net/thumb/webtoon/183559/400/thumbnail_202x120_7fe1272a-9451-4870-bc16-24f38361ee4b.jpg\" title=\"2부 318화\" width=\"71\"/>\n",
      "<span class=\"mask\"></span>\n",
      "</a>\n",
      "</td>\n",
      "<td class=\"title\">\n",
      "<a href=\"/webtoon/detail.nhn?titleId=183559&amp;no=400&amp;weekday=mon\" onclick=\"clickcr(this,'lst.title','183559','400',event)\">2부 318화</a>\n",
      "</td>\n",
      "<td>\n",
      "<div class=\"rating_type\">\n",
      "<span class=\"star\"><em style=\"width:99.63%\">평점</em></span>\n",
      "<strong>9.96</strong>\n",
      "</div>\n",
      "</td>\n",
      "<td class=\"num\">2018.09.09</td>\n",
      "</tr>, <tr>\n",
      "<td>\n",
      "<a href=\"/webtoon/detail.nhn?titleId=183559&amp;no=399&amp;weekday=mon\" onclick=\"clickcr(this,'lst.img','183559','399',event)\">\n",
      "<img alt=\"2부 317화\" height=\"41\" onerror=\"this.src='https://static-comic.pstatic.net/staticImages/COMICWEB/NAVER/img/common/non71_41.gif'\" src=\"https://shared-comic.pstatic.net/thumb/webtoon/183559/399/thumbnail_202x120_16e00f43-8310-4e29-a638-4c3281275192.jpg\" title=\"2부 317화\" width=\"71\"/>\n",
      "<span class=\"mask\"></span>\n",
      "</a>\n",
      "</td>\n",
      "<td class=\"title\">\n",
      "<a href=\"/webtoon/detail.nhn?titleId=183559&amp;no=399&amp;weekday=mon\" onclick=\"clickcr(this,'lst.title','183559','399',event)\">2부 317화</a>\n",
      "</td>\n",
      "<td>\n",
      "<div class=\"rating_type\">\n",
      "<span class=\"star\"><em style=\"width:99.71%\">평점</em></span>\n",
      "<strong>9.97</strong>\n",
      "</div>\n",
      "</td>\n",
      "<td class=\"num\">2018.09.02</td>\n",
      "</tr>, <tr>\n",
      "<td>\n",
      "<a href=\"/webtoon/detail.nhn?titleId=183559&amp;no=398&amp;weekday=mon\" onclick=\"clickcr(this,'lst.img','183559','398',event)\">\n",
      "<img alt=\"2부 316화\" height=\"41\" onerror=\"this.src='https://static-comic.pstatic.net/staticImages/COMICWEB/NAVER/img/common/non71_41.gif'\" src=\"https://shared-comic.pstatic.net/thumb/webtoon/183559/398/thumbnail_202x120_d3777f52-76c7-4e0c-9fdb-4842893598a0.jpg\" title=\"2부 316화\" width=\"71\"/>\n",
      "<span class=\"mask\"></span>\n",
      "</a>\n",
      "</td>\n",
      "<td class=\"title\">\n",
      "<a href=\"/webtoon/detail.nhn?titleId=183559&amp;no=398&amp;weekday=mon\" onclick=\"clickcr(this,'lst.title','183559','398',event)\">2부 316화</a>\n",
      "</td>\n",
      "<td>\n",
      "<div class=\"rating_type\">\n",
      "<span class=\"star\"><em style=\"width:99.74%\">평점</em></span>\n",
      "<strong>9.97</strong>\n",
      "</div>\n",
      "</td>\n",
      "<td class=\"num\">2018.08.26</td>\n",
      "</tr>, <tr>\n",
      "<td>\n",
      "<a href=\"/webtoon/detail.nhn?titleId=183559&amp;no=397&amp;weekday=mon\" onclick=\"clickcr(this,'lst.img','183559','397',event)\">\n",
      "<img alt=\"2부 315화\" height=\"41\" onerror=\"this.src='https://static-comic.pstatic.net/staticImages/COMICWEB/NAVER/img/common/non71_41.gif'\" src=\"https://shared-comic.pstatic.net/thumb/webtoon/183559/397/thumbnail_202x120_71bbf3a3-1c89-414b-9010-4d231036b7eb.jpg\" title=\"2부 315화\" width=\"71\"/>\n",
      "<span class=\"mask\"></span>\n",
      "</a>\n",
      "</td>\n",
      "<td class=\"title\">\n",
      "<a href=\"/webtoon/detail.nhn?titleId=183559&amp;no=397&amp;weekday=mon\" onclick=\"clickcr(this,'lst.title','183559','397',event)\">2부 315화</a>\n",
      "</td>\n",
      "<td>\n",
      "<div class=\"rating_type\">\n",
      "<span class=\"star\"><em style=\"width:99.63%\">평점</em></span>\n",
      "<strong>9.96</strong>\n",
      "</div>\n",
      "</td>\n",
      "<td class=\"num\">2018.08.19</td>\n",
      "</tr>, <tr>\n",
      "<td>\n",
      "<a href=\"/webtoon/detail.nhn?titleId=183559&amp;no=396&amp;weekday=mon\" onclick=\"clickcr(this,'lst.img','183559','396',event)\">\n",
      "<img alt=\"2부 314화\" height=\"41\" onerror=\"this.src='https://static-comic.pstatic.net/staticImages/COMICWEB/NAVER/img/common/non71_41.gif'\" src=\"https://shared-comic.pstatic.net/thumb/webtoon/183559/396/thumbnail_202x120_31982a1d-5bfe-4119-9904-1784754a046f.jpg\" title=\"2부 314화\" width=\"71\"/>\n",
      "<span class=\"mask\"></span>\n",
      "</a>\n",
      "</td>\n",
      "<td class=\"title\">\n",
      "<a href=\"/webtoon/detail.nhn?titleId=183559&amp;no=396&amp;weekday=mon\" onclick=\"clickcr(this,'lst.title','183559','396',event)\">2부 314화</a>\n",
      "</td>\n",
      "<td>\n",
      "<div class=\"rating_type\">\n",
      "<span class=\"star\"><em style=\"width:99.53%\">평점</em></span>\n",
      "<strong>9.95</strong>\n",
      "</div>\n",
      "</td>\n",
      "<td class=\"num\">2018.08.12</td>\n",
      "</tr>, <tr>\n",
      "<td>\n",
      "<a href=\"/webtoon/detail.nhn?titleId=183559&amp;no=395&amp;weekday=mon\" onclick=\"clickcr(this,'lst.img','183559','395',event)\">\n",
      "<img alt=\"2부 313화\" height=\"41\" onerror=\"this.src='https://static-comic.pstatic.net/staticImages/COMICWEB/NAVER/img/common/non71_41.gif'\" src=\"https://shared-comic.pstatic.net/thumb/webtoon/183559/395/thumbnail_202x120_7a427b7e-d49d-4fd6-b8e1-0f1e70f8650d.jpg\" title=\"2부 313화\" width=\"71\"/>\n",
      "<span class=\"mask\"></span>\n",
      "</a>\n",
      "</td>\n",
      "<td class=\"title\">\n",
      "<a href=\"/webtoon/detail.nhn?titleId=183559&amp;no=395&amp;weekday=mon\" onclick=\"clickcr(this,'lst.title','183559','395',event)\">2부 313화</a>\n",
      "</td>\n",
      "<td>\n",
      "<div class=\"rating_type\">\n",
      "<span class=\"star\"><em style=\"width:99.61%\">평점</em></span>\n",
      "<strong>9.96</strong>\n",
      "</div>\n",
      "</td>\n",
      "<td class=\"num\">2018.08.05</td>\n",
      "</tr>, <tr>\n",
      "<td>\n",
      "<a href=\"/webtoon/detail.nhn?titleId=183559&amp;no=394&amp;weekday=mon\" onclick=\"clickcr(this,'lst.img','183559','394',event)\">\n",
      "<img alt=\"2부 312화\" height=\"41\" onerror=\"this.src='https://static-comic.pstatic.net/staticImages/COMICWEB/NAVER/img/common/non71_41.gif'\" src=\"https://shared-comic.pstatic.net/thumb/webtoon/183559/394/thumbnail_202x120_0e00cc4d-752f-4bff-ba15-35f29ebd69e1.jpg\" title=\"2부 312화\" width=\"71\"/>\n",
      "<span class=\"mask\"></span>\n",
      "</a>\n",
      "</td>\n",
      "<td class=\"title\">\n",
      "<a href=\"/webtoon/detail.nhn?titleId=183559&amp;no=394&amp;weekday=mon\" onclick=\"clickcr(this,'lst.title','183559','394',event)\">2부 312화</a>\n",
      "</td>\n",
      "<td>\n",
      "<div class=\"rating_type\">\n",
      "<span class=\"star\"><em style=\"width:99.74%\">평점</em></span>\n",
      "<strong>9.97</strong>\n",
      "</div>\n",
      "</td>\n",
      "<td class=\"num\">2018.07.29</td>\n",
      "</tr>]\n"
     ]
    }
   ],
   "source": [
    "episode_list = list(filter(lambda e: e.get('class') == None, soup.select('div#content > table.viewList tr')[1:]))\n",
    "\n",
    "print(episode_list)"
   ]
  },
  {
   "cell_type": "code",
   "execution_count": 94,
   "metadata": {},
   "outputs": [
    {
     "name": "stdout",
     "output_type": "stream",
     "text": [
      "403 2부 321화 9.93 2018.09.30 https://shared-comic.pstatic.net/thumb/webtoon/183559/403/thumbnail_202x120_ee970c1f-eea6-4517-aef6-797057fa3584.jpg\n",
      "402 2부 320화 9.97 2018.09.23 https://shared-comic.pstatic.net/thumb/webtoon/183559/402/thumbnail_202x120_b1426349-ae94-4eaf-bd63-9b2af4bdef2c.jpg\n",
      "401 2부 319화 9.98 2018.09.16 https://shared-comic.pstatic.net/thumb/webtoon/183559/401/thumbnail_202x120_f851ac1e-02ab-430c-84df-abf304aafc83.jpg\n",
      "400 2부 318화 9.96 2018.09.09 https://shared-comic.pstatic.net/thumb/webtoon/183559/400/thumbnail_202x120_7fe1272a-9451-4870-bc16-24f38361ee4b.jpg\n",
      "399 2부 317화 9.97 2018.09.02 https://shared-comic.pstatic.net/thumb/webtoon/183559/399/thumbnail_202x120_16e00f43-8310-4e29-a638-4c3281275192.jpg\n",
      "398 2부 316화 9.97 2018.08.26 https://shared-comic.pstatic.net/thumb/webtoon/183559/398/thumbnail_202x120_d3777f52-76c7-4e0c-9fdb-4842893598a0.jpg\n",
      "397 2부 315화 9.96 2018.08.19 https://shared-comic.pstatic.net/thumb/webtoon/183559/397/thumbnail_202x120_71bbf3a3-1c89-414b-9010-4d231036b7eb.jpg\n",
      "396 2부 314화 9.95 2018.08.12 https://shared-comic.pstatic.net/thumb/webtoon/183559/396/thumbnail_202x120_31982a1d-5bfe-4119-9904-1784754a046f.jpg\n",
      "395 2부 313화 9.96 2018.08.05 https://shared-comic.pstatic.net/thumb/webtoon/183559/395/thumbnail_202x120_7a427b7e-d49d-4fd6-b8e1-0f1e70f8650d.jpg\n",
      "394 2부 312화 9.97 2018.07.29 https://shared-comic.pstatic.net/thumb/webtoon/183559/394/thumbnail_202x120_0e00cc4d-752f-4bff-ba15-35f29ebd69e1.jpg\n"
     ]
    }
   ],
   "source": [
    "import re\n",
    "\n",
    "for one_episode in episode_list:\n",
    "    episode_id = re.search(r'no=(\\d+)', one_episode.select('td')[0].select_one('a')['href']).group(1)\n",
    "    title = one_episode.select_one('td.title > a').get_text()\n",
    "    url_img_thumbnail = one_episode('td')[0].select_one('a > img')['src']\n",
    "    rating = one_episode.select_one('td div.rating_type strong').get_text()\n",
    "    created_date = one_episode.select_one('td.num').get_text()\n",
    "\n",
    "    print(episode_id, title, rating, created_date, url_img_thumbnail)"
   ]
  },
  {
   "cell_type": "code",
   "execution_count": null,
   "metadata": {},
   "outputs": [],
   "source": []
  }
 ],
 "metadata": {
  "kernelspec": {
   "display_name": "Python 3",
   "language": "python",
   "name": "python3"
  },
  "language_info": {
   "codemirror_mode": {
    "name": "ipython",
    "version": 3
   },
   "file_extension": ".py",
   "mimetype": "text/x-python",
   "name": "python",
   "nbconvert_exporter": "python",
   "pygments_lexer": "ipython3",
   "version": "3.6.6"
  }
 },
 "nbformat": 4,
 "nbformat_minor": 2
}
