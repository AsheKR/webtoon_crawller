{
 "cells": [
  {
   "cell_type": "code",
   "execution_count": 1,
   "metadata": {},
   "outputs": [],
   "source": [
    "from bs4 import BeautifulSoup\n",
    "import requests"
   ]
  },
  {
   "cell_type": "markdown",
   "metadata": {},
   "source": [
    "#  설계\n",
    "\n",
    "## 클래스\n",
    "\n",
    "### WebtoonData\n",
    "웹툰 하나에 해당\n",
    "\n",
    "-- 기존보기 --\n",
    "- 제목 (title)\n",
    "- 커버이미지 (url_img_thumbnail)\n",
    "\n",
    "-- 상세보기 --\n",
    "- 작가 (author)\n",
    "- 작품설명 (description)\n",
    "\n",
    "### EpisodeData\n",
    "웹툰의 한 회에 해당\n",
    "\n",
    "- 제목 (title)\n",
    "- 커버이미지 (url_img_thumbnail)\n",
    "- 별점 (rating)\n",
    "- 등록일 (created_date)"
   ]
  },
  {
   "cell_type": "code",
   "execution_count": 2,
   "metadata": {},
   "outputs": [],
   "source": [
    "# URL 지정 후 html 가져오기\n",
    "\n",
    "webtoon_weekday_url = \"https://comic.naver.com/webtoon/weekday.nhn\"\n",
    "html = requests.get(webtoon_weekday_url)"
   ]
  },
  {
   "cell_type": "code",
   "execution_count": 3,
   "metadata": {},
   "outputs": [],
   "source": [
    "# 파일 쓰기\n",
    "\n",
    "with open('weekday.html', 'wt') as f:\n",
    "    f.write(html.text)"
   ]
  },
  {
   "cell_type": "code",
   "execution_count": 4,
   "metadata": {},
   "outputs": [],
   "source": [
    "# 파일 불러오기\n",
    "\n",
    "with open('weekday.html') as f:\n",
    "    read_file_html = f.read()"
   ]
  },
  {
   "cell_type": "code",
   "execution_count": 5,
   "metadata": {},
   "outputs": [],
   "source": [
    "# BeautifulSoup로 변환\n",
    "\n",
    "soup = BeautifulSoup(read_file_html, 'lxml')"
   ]
  },
  {
   "cell_type": "code",
   "execution_count": 6,
   "metadata": {},
   "outputs": [],
   "source": [
    "# 웹툰 각각, li 태그 내부의 요소들을 가져옴\n",
    "\n",
    "each_webtoons = soup.select('.list_area')[0].select('.col > .col_inner > ul > li')"
   ]
  },
  {
   "cell_type": "code",
   "execution_count": 7,
   "metadata": {},
   "outputs": [
    {
     "data": {
      "text/plain": [
       "220"
      ]
     },
     "execution_count": 7,
     "metadata": {},
     "output_type": "execute_result"
    }
   ],
   "source": [
    "# 총 220개의 요소가 존재\n",
    "\n",
    "len(each_webtoons)"
   ]
  },
  {
   "cell_type": "code",
   "execution_count": 21,
   "metadata": {},
   "outputs": [],
   "source": [
    "# WebtoonData 클래스 정의\n",
    "# Description, Author 요소는 트래픽 사용량이 많아 로직만 맨 아래 정의\n",
    "\n",
    "class WebtoonData:\n",
    "    def __init__(self, title, author):\n",
    "        self.title = title\n",
    "        self.author = author\n",
    "        \n",
    "    def __str__(self):\n",
    "        return self.title\n",
    "    \n",
    "    def __repr__(self):\n",
    "        return self.title\n",
    "    \n",
    "    def __eq__(self, other):\n",
    "        return self.title == other"
   ]
  },
  {
   "cell_type": "code",
   "execution_count": 25,
   "metadata": {},
   "outputs": [
    {
     "name": "stdout",
     "output_type": "stream",
     "text": [
      "중복제거 전 :  220 개\n",
      "중복제거 후 :  192 개\n"
     ]
    }
   ],
   "source": [
    "# weekday.html에서 Title, Url_Img_Thumbnail 요소 가져오기 및 중복 제거\n",
    "\n",
    "webtoon_list = []\n",
    "\n",
    "for webtoon in each_webtoons:\n",
    "    title = webtoon.select('a[class=\"title\"]')[0].get_text()\n",
    "    url_img_thumbnail = webtoon.select('.thumb > a > img')[0]['src']\n",
    "    \n",
    "    if title in webtoon_list:\n",
    "        continue\n",
    "    \n",
    "    webtoon_list.append(WebtoonData(title, url_img_thumbnail))\n",
    "    \n",
    "print('중복제거 전 : ', len(each_webtoons), '개')\n",
    "print('중복제거 후 : ', len(webtoon_list), '개')"
   ]
  },
  {
   "cell_type": "code",
   "execution_count": 12,
   "metadata": {},
   "outputs": [
    {
     "name": "stdout",
     "output_type": "stream",
     "text": [
      "작가이름 :  SIU\n",
      "설명 :  자신의 모든 것이었던 소녀를 쫓아 탑에 들어온 소년그리고 그런 소년을 시험하는 탑\n",
      "작가이름 :  설이 / 윤성원\n",
      "설명 :  '여자도 군대에 간다면?'본격 여자도 군대 가는 만화!본 작품은 2014 네이버 수퍼루키 공모전 당선작품입니다.\n",
      "작가이름 :  조용석\n",
      "설명 :  자유를 꿈꾸는 청춘들의 스트릿라이딩 드라마\n"
     ]
    }
   ],
   "source": [
    "# Description, Author 가져오기\n",
    "# 트래픽 사용에 제한을 주기위해 3개만 가져오도록 했습니다.\n",
    "\n",
    "based_url = 'http://comic.naver.com'\n",
    "\n",
    "\n",
    "count = 0\n",
    "\n",
    "for webtoon in each_webtoons:\n",
    "    on_urls = webtoon.select('.thumb > a')[0]['href']\n",
    "    \n",
    "    if count == 3:\n",
    "        break\n",
    "\n",
    "    count += 1\n",
    "\n",
    "    url = based_url + str(on_urls)\n",
    "    html = requests.get(url).text\n",
    "    soup = BeautifulSoup(html, 'lxml')\n",
    "    author = soup.select('.detail > h2 > .wrt_nm')[0].get_text().strip()\n",
    "    description = soup.select('.detail > p')[0].get_text().strip()\n",
    "    print('작가이름 : ', author)\n",
    "    print('설명 : ', description)"
   ]
  },
  {
   "cell_type": "code",
   "execution_count": null,
   "metadata": {},
   "outputs": [],
   "source": []
  }
 ],
 "metadata": {
  "kernelspec": {
   "display_name": "Python 3",
   "language": "python",
   "name": "python3"
  },
  "language_info": {
   "codemirror_mode": {
    "name": "ipython",
    "version": 3
   },
   "file_extension": ".py",
   "mimetype": "text/x-python",
   "name": "python",
   "nbconvert_exporter": "python",
   "pygments_lexer": "ipython3",
   "version": "3.6.6"
  }
 },
 "nbformat": 4,
 "nbformat_minor": 2
}
