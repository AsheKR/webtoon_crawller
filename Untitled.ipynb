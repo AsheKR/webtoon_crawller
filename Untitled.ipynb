{
 "cells": [
  {
   "cell_type": "code",
   "execution_count": 2,
   "metadata": {},
   "outputs": [
    {
     "name": "stdout",
     "output_type": "stream",
     "text": [
      "b'\\n<!DOCTYPE HTML PUBLIC \"-//W3C//DTD HTML 3.2 Final//EN\">\\n\\n<html>\\n\\n<head>\\n\\n<style>\\n\\na:link\\t\\t\\t{font:8pt/11pt verdana; color:red}\\n\\na:visited\\t\\t{font:8pt/11pt verdana; color:#4e4e4e}\\n\\n</style>\\n\\n<title>HTTP 403 Forbidden</title>\\n\\n</head>\\n\\n<script>\\n \\nfunction Homepage(){\\n\\n// in real bits, urls get returned to our script like this:\\n\\n// res://shdocvw.dll/http_404.htm#http://www.DocURL.com/bar.htm \\n\\n\\n\\n\\tDocURL = document.location.href;\\n\\n\\t\\t\\n\\n\\t//this is where the http or https will be, as found by searching for :// but skipping the res://\\n\\n\\tprotocolIndex=DocURL.indexOf(\"://\",4);\\n\\n\\t\\n\\n\\t//this finds the ending slash for the domain server \\n\\n\\tserverIndex=DocURL.indexOf(\"/\",protocolIndex + 3);\\n\\n\\n\\n\\t\\t//for the href, we need a valid URL to the domain. We search for the # symbol to find the begining \\n\\n\\t//of the true URL, and add 1 to skip it - this is the BeginURL value. We use serverIndex as the end marker.\\n\\n\\t//urlresult=DocURL.substring(protocolIndex - 4,serverIndex);\\n\\n\\tBeginURL=DocURL.indexOf(\"#\",1) + 1;\\n\\n\\tif (protocolIndex - BeginURL > 7)\\n\\n\\t\\turlresult=\"\"\\n\\n\\t\\n\\n\\turlresult=DocURL.substring(BeginURL,serverIndex);\\n\\n\\n\\n\\t//for display, we need to skip after http://, and go to the next slash\\n\\n\\tdisplayresult=DocURL.substring(protocolIndex + 3 ,serverIndex);\\n\\n\\n\\n\\t// Security precaution: must filter out \"urlResult\" and \"displayresult\"\\n\\n\\tforbiddenChars = new RegExp(\"[<>\\'\\\\\"]\", \"g\");\\t// Global search/replace\\n\\n\\turlresult = urlresult.replace(forbiddenChars, \"\");\\n\\n\\t    displayresult = displayresult.replace(forbiddenChars, \"\");\\n\\n    \\n\\n\\tdocument.write(\\'<A target=_top HREF=\"\\' + urlresult + \\'\">\\' + displayresult + \"</a>\");\\n\\n\\n\\n}\\n\\n</script>\\n\\n\\n\\n<body bgcolor=\"white\">\\n\\n<table width=\"400\" cellpadding=\"3\" cellspacing=\"5\">\\n\\n  <tr>\\n\\n    <td id=\"tableProps\" valign=\"center\" align=\"left\" bgcolor=red>\\n\\n    &nbsp; &nbsp; &nbsp; &nbsp;\\n\\n    </td>\\n\\n    <td id=\"tableProps2\" align=\"left\" valign=\"middle\" width=\"360\"><font id=\"errortype\"\\n\\n    style=\"COLOR: black; FONT: 13pt/15pt verdana\">The page cannot be displayed</font>\\n\\n    </td>\\n\\n  </tr>\\n\\n  <tr>\\n\\n    <td id=\"tablePropsWidth\" width=\"400\" colspan=\"2\"><font\\n\\n    style=\"COLOR: black; FONT: 8pt/11pt verdana\">\\n\\n    Access control configuration prevents your request from being allowed\\n\\n    at this time.\\n\\n    </font></td>\\n\\n  </tr>\\n\\n  <tr>\\n\\n    <td id=\"tablePropsWidth2\" width=\"400\" colspan=\"2\"><font id=\"LID1\"\\n\\n    style=\"COLOR: black; FONT: 8pt/11pt verdana\"><hr color=\"#C0C0C0\" noshade>\\n\\n    <p id=\"LID2\">Please try the following:</p><ul>\\n\\n      <li id=\"list1\">If you typed the page address manually, make sure that it is\\n\\n        typed correctly.<br>\\n\\n      </li>\\n\\n      <li id=\"list2\">Open the <script> Homepage(); </script> home page, and then look for links to the information\\n\\n        you want. </li>\\n\\n      <li id=\"list3\">If you are using Internet Explorer, click <a onclick=\"saOC.NavigateToDefaultSearch();event.returnValue=false\" href=\"\"> search </a> to find more information. </li>\\n\\n      <li id=\"list4\">Click the <a href=\"javascript:history.back(1)\">\\n\\n      Back</a> button to try another link. </li>    \\n\\n      <li id=\"list5\">If you feel this is incorrect, contact your service provider. </li>\\n\\n</ul>\\n\\n    <p><br>\\n\\n    </p>\\n\\n    <h2 id=\"ietext\" style=\"font:8pt/11pt verdana; color:black\">HTTP 403 - Forbidden <br>\\n\\n    jaguar     <BR>\\n\\n    </h2>\\n\\n    </font></td>\\n\\n\\n\\n  </tr>\\n\\n</table>\\n\\n</body>\\n\\n</html>\\n\\n'\n"
     ]
    }
   ],
   "source": [
    "import requests\n",
    "\n",
    "url = \"https://image-comic.pstatic.net/webtoon/703630/34/20180728001128_60ec047d263d22934ddaff91f51ee5cd_IMAG01_68.jpg\"\n",
    "res = requests.get(url, stream=True).content\n",
    "\n",
    "print(res)"
   ]
  },
  {
   "cell_type": "code",
   "execution_count": null,
   "metadata": {},
   "outputs": [],
   "source": []
  }
 ],
 "metadata": {
  "kernelspec": {
   "display_name": "Python 3",
   "language": "python",
   "name": "python3"
  },
  "language_info": {
   "codemirror_mode": {
    "name": "ipython",
    "version": 3
   },
   "file_extension": ".py",
   "mimetype": "text/x-python",
   "name": "python",
   "nbconvert_exporter": "python",
   "pygments_lexer": "ipython3",
   "version": "3.6.6"
  }
 },
 "nbformat": 4,
 "nbformat_minor": 2
}
